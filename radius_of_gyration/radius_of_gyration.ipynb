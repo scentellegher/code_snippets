{
 "cells": [
  {
   "cell_type": "code",
   "execution_count": null,
   "metadata": {},
   "outputs": [],
   "source": [
    "import findspark\n",
    "findspark.init()\n",
    "\n",
    "from pyspark.sql import SparkSession\n",
    "import pyspark.sql.functions as F\n",
    "from pyspark.sql.window import Window\n"
   ]
  },
  {
   "cell_type": "code",
   "execution_count": null,
   "metadata": {},
   "outputs": [],
   "source": [
    "spark = SparkSession \\\n",
    "        .builder.master('local[8]') \\\n",
    "        .appName('RadiusOfGyration') \\\n",
    "        .config('spark.sql.shuffle.partitions', 30) \\\n",
    "        .config('spark.driver.memory', '20g') \\\n",
    "        .config('spark.executor.memory', '20g') \\\n",
    "        .getOrCreate()"
   ]
  },
  {
   "cell_type": "code",
   "execution_count": null,
   "metadata": {},
   "outputs": [],
   "source": [
    "path_data = '/path/to/gps_data'\n",
    "gps_data = spark.read.parquet(path_data)"
   ]
  },
  {
   "cell_type": "code",
   "execution_count": null,
   "metadata": {},
   "outputs": [],
   "source": [
    "def distance(lat_p1, lon_p1, lat_p2, lon_p2):\n",
    "    '''\n",
    "    Calculates the great-circle distance (in km) between two \n",
    "    GPS points p1 and p2\n",
    "    https://en.wikipedia.org/wiki/Great-circle_distance#Formulae\n",
    "    -------------------------------------\n",
    "    :param lat_p1: latitude of origin point\n",
    "    :param lon_p1: longitude of origin point\n",
    "    :param lat_p1: latitude of destination point\n",
    "    :param lon_p1: longitude of destination point\n",
    "    :returns: distance in km\n",
    "    '''\n",
    "    return F.acos(\n",
    "        F.sin(F.toRadians(lat_p1)) * F.sin(F.toRadians(lat_p2)) + \n",
    "        F.cos(F.toRadians(lat_p1)) * F.cos(F.toRadians(lat_p2)) * \n",
    "            F.cos(F.toRadians(lon_p1) - F.toRadians(lon_p2))\n",
    "    ) * F.lit(6371.0)"
   ]
  },
  {
   "cell_type": "code",
   "execution_count": null,
   "metadata": {},
   "outputs": [],
   "source": [
    "w = Window().partitionBy('userId')\n",
    "\n",
    "radius_df = (gps_data\n",
    "             # number of visits per stop\n",
    "             .groupby('userId', 'locationId').agg(F.count(F.lit(1)).alias('n_i'), \n",
    "                                                  F.first('locationLongitude').alias('locationLongitude'),\n",
    "                                                  F.first('locationLatitude').alias('locationLatitude'))\n",
    "             #compute center of mass (lat/lon) per user\n",
    "             .withColumn('center_lon', F.avg(F.col('locationLongitude')).over(w))\n",
    "             .withColumn('center_lat', F.avg(F.col('locationLatitude')).over(w))\n",
    "             # compute total visits\n",
    "             .withColumn('N', F.sum(F.col('n_i')).over(w))    \n",
    "             # compute (r_i - r_cm)\n",
    "             .withColumn('distance', distance(F.col('locationLatitude'), F.col('locationLongitude'), F.col('center_lat'), F.col('center_lon')))\n",
    "             # compute n_i(r_i - r_cm)^2 / N\n",
    "             .withColumn('distance2', F.col('n_i') * (F.col('distance') * F.col('distance')) / F.col('N'))\n",
    "             # compute sum(n_i(r_i - r_cm)^2)\n",
    "             .groupBy('userId').agg(F.sum(F.col('distance2')).alias('sum_dist2'))\n",
    "             # square root\n",
    "             .withColumn('radius_gyr', F.sqrt(F.col('sum_dist2')))\n",
    "             .select('userId','radius_gyr')\n",
    "            )\n",
    "radius_df.show()"
   ]
  }
 ],
 "metadata": {
  "kernelspec": {
   "display_name": "Python 3",
   "language": "python",
   "name": "python3"
  },
  "language_info": {
   "codemirror_mode": {
    "name": "ipython",
    "version": 3
   },
   "file_extension": ".py",
   "mimetype": "text/x-python",
   "name": "python",
   "nbconvert_exporter": "python",
   "pygments_lexer": "ipython3",
   "version": "3.6.9"
  }
 },
 "nbformat": 4,
 "nbformat_minor": 4
}
